{
 "cells": [
  {
   "cell_type": "code",
   "execution_count": 1,
   "metadata": {},
   "outputs": [],
   "source": [
    "import os\n"
   ]
  },
  {
   "cell_type": "code",
   "execution_count": 2,
   "metadata": {},
   "outputs": [
    {
     "data": {
      "text/plain": [
       "'/Users/zhangxueqian/Desktop/Tiny-Defect-Detection-for-PCB-master/tools'"
      ]
     },
     "execution_count": 2,
     "metadata": {},
     "output_type": "execute_result"
    }
   ],
   "source": [
    "os.chdir(\"tools\")\n",
    "os.getcwd()\n"
   ]
  },
  {
   "cell_type": "code",
   "execution_count": 3,
   "metadata": {},
   "outputs": [],
   "source": [
    "#Function for getting the paths for all files under the specific directory.\n",
    "def find(filepath):\n",
    "    filelist=[]\n",
    "    if os.path.isdir(filepath):\n",
    "        d=os.listdir(filepath)\n",
    "        for directory in d:\n",
    "            if not directory.startswith(\".\"):\n",
    "                filepathnew=filepath\n",
    "                filepathnew=os.path.join(filepathnew,directory)\n",
    "                if os.path.isfile(filepathnew):\n",
    "                    filelist.append(filepathnew) \n",
    "                else:\n",
    "                    for file in find(filepathnew):\n",
    "                        filelist.append(file)\n",
    "    else:\n",
    "        filelist.append(filepath)\n",
    "    filelist.sort(reverse=True)\n",
    "    return filelist\n",
    "\n"
   ]
  },
  {
   "cell_type": "code",
   "execution_count": 4,
   "metadata": {},
   "outputs": [
    {
     "data": {
      "text/plain": [
       "['Mouse_bite',\n",
       " '.DS_Store',\n",
       " 'Spur',\n",
       " 'Short',\n",
       " 'Spurious_copper',\n",
       " 'Open_circuit',\n",
       " 'Missing_hole']"
      ]
     },
     "execution_count": 4,
     "metadata": {},
     "output_type": "execute_result"
    }
   ],
   "source": [
    "os.listdir('/Users/zhangxueqian/Desktop/PCB_DATASET/Annotations')"
   ]
  },
  {
   "cell_type": "code",
   "execution_count": 5,
   "metadata": {},
   "outputs": [],
   "source": [
    "test_annotation_list=find('/Users/zhangxueqian/Desktop/PCB_DATASET/Annotations') ##Change to your own directory\n",
    "test_annot_list=[testannot.split('/')[-2]+'/'+testannot.split('/')[-1] for testannot in test_annotation_list]\n",
    "test_annot_list\n",
    "# if 'test_annotation/' not in os.listdir('.'):\n",
    "#     os.mkdir('test_annotation')   #make a new directory called test_annotation to later save corresponding demo test_annotations\n",
    "\n",
    "testxmllist=[test_annot.split('/')[-1] for test_annot in test_annot_list]"
   ]
  },
  {
   "cell_type": "code",
   "execution_count": 6,
   "metadata": {
    "scrolled": true
   },
   "outputs": [],
   "source": [
    "import shutil\n",
    "\n",
    "for img in os.listdir('demos_backup/'):\n",
    "    extract=img.split('.')[0]+'.xml'    \n",
    "    for i in range(len(test_annot_list)):\n",
    "        if extract==testxmllist[i]:\n",
    "            ##The following should use your own PCB_DATASET Annotations directory\n",
    "            copysrc=os.path.join('/Users/zhangxueqian/Desktop/PCB_DATASET/Annotations',test_annot_list[i]) \n",
    "            copydst='test_annotation/'\n",
    "            shutil.copy(copysrc,copydst)\n",
    "    \n"
   ]
  },
  {
   "cell_type": "code",
   "execution_count": 7,
   "metadata": {},
   "outputs": [
    {
     "data": {
      "text/plain": [
       "['08_missing_hole_07.xml',\n",
       " '12_missing_hole_04.xml',\n",
       " '11_missing_hole_06.xml',\n",
       " '11_mouse_bite_05.xml',\n",
       " '10_mouse_bite_03.xml',\n",
       " '09_missing_hole_05.xml',\n",
       " '01_open_circuit_12.xml',\n",
       " '07_spurious_copper_07.xml',\n",
       " '04_open_circuit_10.xml',\n",
       " '.DS_Store',\n",
       " '10_missing_hole_03.xml',\n",
       " '04_spurious_copper_04.xml',\n",
       " '10_spur_03.xml',\n",
       " '11_open_circuit_07.xml',\n",
       " '07_missing_hole_01.xml',\n",
       " '08_open_circuit_06.xml',\n",
       " '12_open_circuit_06.xml',\n",
       " '04_missing_hole_01.xml',\n",
       " '10_open_circuit_04.xml',\n",
       " '12_mouse_bite_02.xml',\n",
       " '01_spurious_copper_11.xml',\n",
       " '07_mouse_bite_08.xml',\n",
       " '01_missing_hole_01.xml',\n",
       " '10_short_02.xml',\n",
       " '11_short_05.xml',\n",
       " '12_spur_02.xml',\n",
       " '12_short_02.xml',\n",
       " '07_open_circuit_09.xml',\n",
       " '04_mouse_bite_10.xml',\n",
       " '01_mouse_bite_05.xml',\n",
       " '08_spur_07.xml']"
      ]
     },
     "execution_count": 7,
     "metadata": {},
     "output_type": "execute_result"
    }
   ],
   "source": [
    "os.listdir('test_annotation')"
   ]
  },
  {
   "cell_type": "code",
   "execution_count": 5,
   "metadata": {},
   "outputs": [
    {
     "name": "stdout",
     "output_type": "stream",
     "text": [
      "/anaconda3/lib/python3.6/site-packages/tensorflow/python/framework/dtypes.py:516: FutureWarning: Passing (type, 1) or '1type' as a synonym of type is deprecated; in a future version of numpy, it will be understood as (type, (1,)) / '(1,)type'.\n",
      "  _np_qint8 = np.dtype([(\"qint8\", np.int8, 1)])\n",
      "/anaconda3/lib/python3.6/site-packages/tensorflow/python/framework/dtypes.py:517: FutureWarning: Passing (type, 1) or '1type' as a synonym of type is deprecated; in a future version of numpy, it will be understood as (type, (1,)) / '(1,)type'.\n",
      "  _np_quint8 = np.dtype([(\"quint8\", np.uint8, 1)])\n",
      "/anaconda3/lib/python3.6/site-packages/tensorflow/python/framework/dtypes.py:518: FutureWarning: Passing (type, 1) or '1type' as a synonym of type is deprecated; in a future version of numpy, it will be understood as (type, (1,)) / '(1,)type'.\n",
      "  _np_qint16 = np.dtype([(\"qint16\", np.int16, 1)])\n",
      "/anaconda3/lib/python3.6/site-packages/tensorflow/python/framework/dtypes.py:519: FutureWarning: Passing (type, 1) or '1type' as a synonym of type is deprecated; in a future version of numpy, it will be understood as (type, (1,)) / '(1,)type'.\n",
      "  _np_quint16 = np.dtype([(\"quint16\", np.uint16, 1)])\n",
      "/anaconda3/lib/python3.6/site-packages/tensorflow/python/framework/dtypes.py:520: FutureWarning: Passing (type, 1) or '1type' as a synonym of type is deprecated; in a future version of numpy, it will be understood as (type, (1,)) / '(1,)type'.\n",
      "  _np_qint32 = np.dtype([(\"qint32\", np.int32, 1)])\n",
      "/anaconda3/lib/python3.6/site-packages/tensorflow/python/framework/dtypes.py:525: FutureWarning: Passing (type, 1) or '1type' as a synonym of type is deprecated; in a future version of numpy, it will be understood as (type, (1,)) / '(1,)type'.\n",
      "  np_resource = np.dtype([(\"resource\", np.ubyte, 1)])\n",
      "/anaconda3/lib/python3.6/site-packages/tensorboard/compat/tensorflow_stub/dtypes.py:541: FutureWarning: Passing (type, 1) or '1type' as a synonym of type is deprecated; in a future version of numpy, it will be understood as (type, (1,)) / '(1,)type'.\n",
      "  _np_qint8 = np.dtype([(\"qint8\", np.int8, 1)])\n",
      "/anaconda3/lib/python3.6/site-packages/tensorboard/compat/tensorflow_stub/dtypes.py:542: FutureWarning: Passing (type, 1) or '1type' as a synonym of type is deprecated; in a future version of numpy, it will be understood as (type, (1,)) / '(1,)type'.\n",
      "  _np_quint8 = np.dtype([(\"quint8\", np.uint8, 1)])\n",
      "/anaconda3/lib/python3.6/site-packages/tensorboard/compat/tensorflow_stub/dtypes.py:543: FutureWarning: Passing (type, 1) or '1type' as a synonym of type is deprecated; in a future version of numpy, it will be understood as (type, (1,)) / '(1,)type'.\n",
      "  _np_qint16 = np.dtype([(\"qint16\", np.int16, 1)])\n",
      "/anaconda3/lib/python3.6/site-packages/tensorboard/compat/tensorflow_stub/dtypes.py:544: FutureWarning: Passing (type, 1) or '1type' as a synonym of type is deprecated; in a future version of numpy, it will be understood as (type, (1,)) / '(1,)type'.\n",
      "  _np_quint16 = np.dtype([(\"quint16\", np.uint16, 1)])\n",
      "/anaconda3/lib/python3.6/site-packages/tensorboard/compat/tensorflow_stub/dtypes.py:545: FutureWarning: Passing (type, 1) or '1type' as a synonym of type is deprecated; in a future version of numpy, it will be understood as (type, (1,)) / '(1,)type'.\n",
      "  _np_qint32 = np.dtype([(\"qint32\", np.int32, 1)])\n",
      "/anaconda3/lib/python3.6/site-packages/tensorboard/compat/tensorflow_stub/dtypes.py:550: FutureWarning: Passing (type, 1) or '1type' as a synonym of type is deprecated; in a future version of numpy, it will be understood as (type, (1,)) / '(1,)type'.\n",
      "  np_resource = np.dtype([(\"resource\", np.ubyte, 1)])\n",
      "WARNING:tensorflow:From /anaconda3/lib/python3.6/site-packages/tfplot/figure.py:18: The name tf.Summary is deprecated. Please use tf.compat.v1.Summary instead.\n",
      "\n",
      "/anaconda3/lib/python3.6/site-packages/dask/dataframe/utils.py:14: FutureWarning: pandas.util.testing is deprecated. Use the functions in the public API at pandas.testing instead.\n",
      "  import pandas.util.testing as tm\n",
      "++--++--++--++--++--++--++--++--++--++--++--++--++--++--++--++--++--++--++--++--\n",
      "/Users/zhangxueqian/Desktop/Tiny-Defect-Detection-for-PCB-master\n",
      "WARNING:tensorflow:From /Users/zhangxueqian/Desktop/Tiny-Defect-Detection-for-PCB-master/tools/libs/networks/mobilenet/mobilenet.py:356: The name tf.nn.avg_pool is deprecated. Please use tf.nn.avg_pool2d instead.\n",
      "\n",
      "Called with args:\n",
      "Namespace(GPU='0', data_dir='/Users/zhangxueqian/Desktop/PCB_DATASET/images/Missing_holesample/', save_dir='/Users/zhangxueqian/Desktop/PCBresults/sample/')\n",
      "['/Users/zhangxueqian/Desktop/PCB_DATASET/images/Missing_holesample/01_missing_hole_02.jpg', '/Users/zhangxueqian/Desktop/PCB_DATASET/images/Missing_holesample/01_missing_hole_03.jpg', '/Users/zhangxueqian/Desktop/PCB_DATASET/images/Missing_holesample/01_missing_hole_01.jpg']\n",
      "WARNING:tensorflow:From inference.py:150: The name tf.summary.FileWriter is deprecated. Please use tf.compat.v1.summary.FileWriter instead.\n",
      "\n",
      "WARNING:tensorflow:From inference.py:150: The name tf.get_default_graph is deprecated. Please use tf.compat.v1.get_default_graph instead.\n",
      "\n",
      "WARNING:tensorflow:From inference.py:83: The name tf.placeholder is deprecated. Please use tf.compat.v1.placeholder instead.\n",
      "\n",
      "WARNING:tensorflow:From /anaconda3/lib/python3.6/data/io/image_preprocess.py:55: The name tf.image.resize_bilinear is deprecated. Please use tf.compat.v1.image.resize_bilinear instead.\n",
      "\n",
      "WARNING:tensorflow:From /Users/zhangxueqian/Desktop/Tiny-Defect-Detection-for-PCB-master/tools/libs/networks/resnet.py:28: The name tf.GraphKeys is deprecated. Please use tf.compat.v1.GraphKeys instead.\n",
      "\n",
      "WARNING:tensorflow:From /Users/zhangxueqian/Desktop/Tiny-Defect-Detection-for-PCB-master/tools/libs/networks/resnet.py:111: The name tf.variable_scope is deprecated. Please use tf.compat.v1.variable_scope instead.\n",
      "\n",
      "WARNING:tensorflow:From /anaconda3/lib/python3.6/site-packages/tfplot/ops.py:114: py_func (from tensorflow.python.ops.script_ops) is deprecated and will be removed in a future version.\n",
      "Instructions for updating:\n",
      "tf.py_func is deprecated in TF V2. Instead, there are two\n",
      "    options available in V2.\n",
      "    - tf.py_function takes a python function which manipulates tf eager\n",
      "    tensors instead of numpy arrays. It's easy to convert a tf eager tensor to\n",
      "    an ndarray (just call tensor.numpy()) but having access to eager tensors\n",
      "    means `tf.py_function`s can use accelerators such as GPUs as well as\n",
      "    being differentiable using a gradient tape.\n",
      "    - tf.numpy_function maintains the semantics of the deprecated tf.py_func\n",
      "    (it is not differentiable, and manipulates numpy arrays). It drops the\n",
      "    stateful argument making all functions stateful.\n",
      "    \n",
      "we are in Pyramid::-======>>>>\n",
      "['P2', 'P3', 'P4', 'P5', 'P6']\n",
      "base_anchor_size are:  [15, 25, 40, 60, 80]\n",
      "________________________________________\n",
      "WARNING:tensorflow:From /Users/zhangxueqian/Desktop/Tiny-Defect-Detection-for-PCB-master/tools/libs/networks/build_whole_network.py:218: add_dispatch_support.<locals>.wrapper (from tensorflow.python.ops.array_ops) is deprecated and will be removed in a future version.\n",
      "Instructions for updating:\n",
      "Use tf.where in 2.0, which has the same broadcast rule as np.where\n",
      "WARNING:tensorflow:From /Users/zhangxueqian/Desktop/Tiny-Defect-Detection-for-PCB-master/tools/libs/networks/build_whole_network.py:221: The name tf.summary.scalar is deprecated. Please use tf.compat.v1.summary.scalar instead.\n",
      "\n",
      "WARNING:tensorflow:From /Users/zhangxueqian/Desktop/Tiny-Defect-Detection-for-PCB-master/tools/libs/networks/build_whole_network.py:137: calling crop_and_resize_v1 (from tensorflow.python.ops.image_ops_impl) with box_ind is deprecated and will be removed in a future version.\n",
      "Instructions for updating:\n",
      "box_ind is deprecated, use box_indices instead\n",
      "WARNING:tensorflow:From /anaconda3/lib/python3.6/site-packages/tensorflow/contrib/layers/python/layers/layers.py:1634: flatten (from tensorflow.python.layers.core) is deprecated and will be removed in a future version.\n",
      "Instructions for updating:\n",
      "Use keras.layers.flatten instead.\n",
      "WARNING:tensorflow:From /Users/zhangxueqian/Desktop/Tiny-Defect-Detection-for-PCB-master/tools/libs/networks/build_whole_network.py:541: The name tf.train.Saver is deprecated. Please use tf.compat.v1.train.Saver instead.\n",
      "\n"
     ]
    },
    {
     "name": "stdout",
     "output_type": "stream",
     "text": [
      "model restore from : /Users/zhangxueqian/Desktop/Tiny-Defect-Detection-for-PCB-master/output/trained_weights/FPN_Res101_0117_OHEM/pcb_30000model.ckpt\n",
      "2020-03-14 11:57:28.197374: I tensorflow/core/platform/cpu_feature_guard.cc:142] Your CPU supports instructions that this TensorFlow binary was not compiled to use: AVX2 FMA\n",
      "WARNING:tensorflow:From /anaconda3/lib/python3.6/site-packages/tensorflow/python/training/saver.py:1276: checkpoint_exists (from tensorflow.python.training.checkpoint_management) is deprecated and will be removed in a future version.\n",
      "Instructions for updating:\n",
      "Use standard file APIs to check for files with this prefix.\n",
      "restore model\n",
      "/Users/zhangxueqian/Desktop/PCB_DATASET/images/Missing_holesample/01_missing_hole_01.jpg image cost 2.3824079036712646s:[>>>>>>>>>>>>>>>>>>>>>>>>>>>>>>>>>>>>>>>>]100%\t3/3"
     ]
    }
   ],
   "source": [
    "# Implementing the model(for instance only the images in Missing_holesample folder, to do it correctly, you should use all the images)\n",
    "#!python inference.py --data_dir='/Users/zhangxueqian/Desktop/PCB_DATASET/images/Missing_holesample/' --save_dir='/Users/zhangxueqian/Desktop/PCBresults/sample/' --GPU='0'\n",
    "\n",
    "# def inference(test_dir, inference_save_path):\n",
    "\n",
    "#     test_imgname_list = [os.path.join(test_dir, img_name_batchame) for img_batchname in os.listdir(test_dir)\n",
    "#                                                           if img_name.endswith(('.jpg', '.png', '.jpeg', '.tif', '.tiff'))]\n",
    "\n",
    "#     print(test_imgname_list)\n",
    "\n",
    "#inference('/Users/zhangxueqian/test','~/')\n"
   ]
  },
  {
   "cell_type": "code",
   "execution_count": 5,
   "metadata": {},
   "outputs": [
    {
     "name": "stdout",
     "output_type": "stream",
     "text": [
      "/anaconda3/lib/python3.6/site-packages/tensorflow/python/framework/dtypes.py:516: FutureWarning: Passing (type, 1) or '1type' as a synonym of type is deprecated; in a future version of numpy, it will be understood as (type, (1,)) / '(1,)type'.\n",
      "  _np_qint8 = np.dtype([(\"qint8\", np.int8, 1)])\n",
      "/anaconda3/lib/python3.6/site-packages/tensorflow/python/framework/dtypes.py:517: FutureWarning: Passing (type, 1) or '1type' as a synonym of type is deprecated; in a future version of numpy, it will be understood as (type, (1,)) / '(1,)type'.\n",
      "  _np_quint8 = np.dtype([(\"quint8\", np.uint8, 1)])\n",
      "/anaconda3/lib/python3.6/site-packages/tensorflow/python/framework/dtypes.py:518: FutureWarning: Passing (type, 1) or '1type' as a synonym of type is deprecated; in a future version of numpy, it will be understood as (type, (1,)) / '(1,)type'.\n",
      "  _np_qint16 = np.dtype([(\"qint16\", np.int16, 1)])\n",
      "/anaconda3/lib/python3.6/site-packages/tensorflow/python/framework/dtypes.py:519: FutureWarning: Passing (type, 1) or '1type' as a synonym of type is deprecated; in a future version of numpy, it will be understood as (type, (1,)) / '(1,)type'.\n",
      "  _np_quint16 = np.dtype([(\"quint16\", np.uint16, 1)])\n",
      "/anaconda3/lib/python3.6/site-packages/tensorflow/python/framework/dtypes.py:520: FutureWarning: Passing (type, 1) or '1type' as a synonym of type is deprecated; in a future version of numpy, it will be understood as (type, (1,)) / '(1,)type'.\n",
      "  _np_qint32 = np.dtype([(\"qint32\", np.int32, 1)])\n",
      "/anaconda3/lib/python3.6/site-packages/tensorflow/python/framework/dtypes.py:525: FutureWarning: Passing (type, 1) or '1type' as a synonym of type is deprecated; in a future version of numpy, it will be understood as (type, (1,)) / '(1,)type'.\n",
      "  np_resource = np.dtype([(\"resource\", np.ubyte, 1)])\n",
      "/anaconda3/lib/python3.6/site-packages/tensorboard/compat/tensorflow_stub/dtypes.py:541: FutureWarning: Passing (type, 1) or '1type' as a synonym of type is deprecated; in a future version of numpy, it will be understood as (type, (1,)) / '(1,)type'.\n",
      "  _np_qint8 = np.dtype([(\"qint8\", np.int8, 1)])\n",
      "/anaconda3/lib/python3.6/site-packages/tensorboard/compat/tensorflow_stub/dtypes.py:542: FutureWarning: Passing (type, 1) or '1type' as a synonym of type is deprecated; in a future version of numpy, it will be understood as (type, (1,)) / '(1,)type'.\n",
      "  _np_quint8 = np.dtype([(\"quint8\", np.uint8, 1)])\n",
      "/anaconda3/lib/python3.6/site-packages/tensorboard/compat/tensorflow_stub/dtypes.py:543: FutureWarning: Passing (type, 1) or '1type' as a synonym of type is deprecated; in a future version of numpy, it will be understood as (type, (1,)) / '(1,)type'.\n",
      "  _np_qint16 = np.dtype([(\"qint16\", np.int16, 1)])\n",
      "/anaconda3/lib/python3.6/site-packages/tensorboard/compat/tensorflow_stub/dtypes.py:544: FutureWarning: Passing (type, 1) or '1type' as a synonym of type is deprecated; in a future version of numpy, it will be understood as (type, (1,)) / '(1,)type'.\n",
      "  _np_quint16 = np.dtype([(\"quint16\", np.uint16, 1)])\n",
      "/anaconda3/lib/python3.6/site-packages/tensorboard/compat/tensorflow_stub/dtypes.py:545: FutureWarning: Passing (type, 1) or '1type' as a synonym of type is deprecated; in a future version of numpy, it will be understood as (type, (1,)) / '(1,)type'.\n",
      "  _np_qint32 = np.dtype([(\"qint32\", np.int32, 1)])\n",
      "/anaconda3/lib/python3.6/site-packages/tensorboard/compat/tensorflow_stub/dtypes.py:550: FutureWarning: Passing (type, 1) or '1type' as a synonym of type is deprecated; in a future version of numpy, it will be understood as (type, (1,)) / '(1,)type'.\n",
      "  np_resource = np.dtype([(\"resource\", np.ubyte, 1)])\n",
      "WARNING:tensorflow:From /anaconda3/lib/python3.6/site-packages/tfplot/figure.py:18: The name tf.Summary is deprecated. Please use tf.compat.v1.Summary instead.\n",
      "\n",
      "/anaconda3/lib/python3.6/site-packages/dask/dataframe/utils.py:14: FutureWarning: pandas.util.testing is deprecated. Use the functions in the public API at pandas.testing instead.\n",
      "  import pandas.util.testing as tm\n",
      "++--++--++--++--++--++--++--++--++--++--++--++--++--++--++--++--++--++--++--++--\n",
      "/Users/zhangxueqian/Desktop/Tiny-Defect-Detection-for-PCB-master\n",
      "WARNING:tensorflow:From /Users/zhangxueqian/Desktop/Tiny-Defect-Detection-for-PCB-master/tools/libs/networks/mobilenet/mobilenet.py:356: The name tf.nn.avg_pool is deprecated. Please use tf.nn.avg_pool2d instead.\n",
      "\n",
      "----------------------------------------\n",
      "Namespace(GPU='0', eval_imgs='/Users/zhangxueqian/Desktop/PCB_DATASET/images/Missing_hole/', eval_num=100, showbox=False, test_annotation_dir='/Users/zhangxueqian/Desktop/PCB_DATASET/Annotations/Missing_hole/')\n",
      "----------------------------------------\n",
      "WARNING:tensorflow:From eval.py:70: The name tf.placeholder is deprecated. Please use tf.compat.v1.placeholder instead.\n",
      "\n",
      "WARNING:tensorflow:From /anaconda3/lib/python3.6/data/io/image_preprocess.py:55: The name tf.image.resize_bilinear is deprecated. Please use tf.compat.v1.image.resize_bilinear instead.\n",
      "\n",
      "WARNING:tensorflow:From /Users/zhangxueqian/Desktop/Tiny-Defect-Detection-for-PCB-master/tools/libs/networks/resnet.py:28: The name tf.GraphKeys is deprecated. Please use tf.compat.v1.GraphKeys instead.\n",
      "\n",
      "WARNING:tensorflow:From /Users/zhangxueqian/Desktop/Tiny-Defect-Detection-for-PCB-master/tools/libs/networks/resnet.py:111: The name tf.variable_scope is deprecated. Please use tf.compat.v1.variable_scope instead.\n",
      "\n",
      "WARNING:tensorflow:From /anaconda3/lib/python3.6/site-packages/tfplot/ops.py:114: py_func (from tensorflow.python.ops.script_ops) is deprecated and will be removed in a future version.\n",
      "Instructions for updating:\n",
      "tf.py_func is deprecated in TF V2. Instead, there are two\n",
      "    options available in V2.\n",
      "    - tf.py_function takes a python function which manipulates tf eager\n",
      "    tensors instead of numpy arrays. It's easy to convert a tf eager tensor to\n",
      "    an ndarray (just call tensor.numpy()) but having access to eager tensors\n",
      "    means `tf.py_function`s can use accelerators such as GPUs as well as\n",
      "    being differentiable using a gradient tape.\n",
      "    - tf.numpy_function maintains the semantics of the deprecated tf.py_func\n",
      "    (it is not differentiable, and manipulates numpy arrays). It drops the\n",
      "    stateful argument making all functions stateful.\n",
      "    \n",
      "we are in Pyramid::-======>>>>\n",
      "['P2', 'P3', 'P4', 'P5', 'P6']\n",
      "base_anchor_size are:  [15, 25, 40, 60, 80]\n",
      "________________________________________\n",
      "WARNING:tensorflow:From /Users/zhangxueqian/Desktop/Tiny-Defect-Detection-for-PCB-master/tools/libs/networks/build_whole_network.py:206: The name tf.log is deprecated. Please use tf.math.log instead.\n",
      "\n",
      "WARNING:tensorflow:From /Users/zhangxueqian/Desktop/Tiny-Defect-Detection-for-PCB-master/tools/libs/networks/build_whole_network.py:218: add_dispatch_support.<locals>.wrapper (from tensorflow.python.ops.array_ops) is deprecated and will be removed in a future version.\n",
      "Instructions for updating:\n",
      "Use tf.where in 2.0, which has the same broadcast rule as np.where\n",
      "WARNING:tensorflow:From /Users/zhangxueqian/Desktop/Tiny-Defect-Detection-for-PCB-master/tools/libs/networks/build_whole_network.py:221: The name tf.summary.scalar is deprecated. Please use tf.compat.v1.summary.scalar instead.\n",
      "\n",
      "WARNING:tensorflow:From /Users/zhangxueqian/Desktop/Tiny-Defect-Detection-for-PCB-master/tools/libs/networks/build_whole_network.py:137: calling crop_and_resize_v1 (from tensorflow.python.ops.image_ops_impl) with box_ind is deprecated and will be removed in a future version.\n",
      "Instructions for updating:\n",
      "box_ind is deprecated, use box_indices instead\n",
      "WARNING:tensorflow:From /anaconda3/lib/python3.6/site-packages/tensorflow/contrib/layers/python/layers/layers.py:1634: flatten (from tensorflow.python.layers.core) is deprecated and will be removed in a future version.\n",
      "Instructions for updating:\n",
      "Use keras.layers.flatten instead.\n",
      "WARNING:tensorflow:From /Users/zhangxueqian/Desktop/Tiny-Defect-Detection-for-PCB-master/tools/libs/networks/build_whole_network.py:541: The name tf.train.Saver is deprecated. Please use tf.compat.v1.train.Saver instead.\n",
      "\n",
      "model restore from : /Users/zhangxueqian/Desktop/Tiny-Defect-Detection-for-PCB-master/output/trained_weights/FPN_Res101_0117_OHEM/pcb_30000model.ckpt\n",
      "2020-03-14 15:22:02.911585: I tensorflow/core/platform/cpu_feature_guard.cc:142] Your CPU supports instructions that this TensorFlow binary was not compiled to use: AVX2 FMA\n"
     ]
    },
    {
     "name": "stdout",
     "output_type": "stream",
     "text": [
      "WARNING:tensorflow:From /anaconda3/lib/python3.6/site-packages/tensorflow/python/training/saver.py:1276: checkpoint_exists (from tensorflow.python.training.checkpoint_management) is deprecated and will be removed in a future version.\n",
      "Instructions for updating:\n",
      "Use standard file APIs to check for files with this prefix.\n",
      "restore model\n",
      "12_missing_hole_08.jpg image cost 1.6376807689666748s:[>>>>>>>>>>>>>>>>>>>>>>>>>>>>>>>>>>>>>>>>]100%\t115/115\n",
      " average_training_time_per_image is2.1977569123973018\n",
      "Writing missing_hole VOC resutls file\n",
      "Writing mouse_bite VOC resutls file\n",
      "Writing open_circuit VOC resutls file\n",
      "Writing short VOC resutls file\n",
      "Writing spur VOC resutls file\n",
      "Writing spurious_copper VOC resutls file\n",
      "____________________\n",
      "/Users/zhangxueqian/Desktop/Tiny-Defect-Detection-for-PCB-master/tools/libs/val_libs/voc_eval.py:215: RuntimeWarning: invalid value encountered in true_divide\n",
      "  rec = tp / float(num_pos)\n",
      "____________________\n",
      "____________________\n",
      "____________________\n",
      "____________________\n",
      "____________________\n",
      "Figure(640x480)\n",
      "hello\n",
      "mAP is : nan\n"
     ]
    }
   ],
   "source": [
    "#Evaluation\n",
    "#!python eval.py --eval_imgs='/Users/zhangxueqian/Desktop/PCB_DATASET/images/' --annotation_dir='/Users/zhangxueqian/Desktop/PCB_DATASET/Annotations/Missing_hole/'\n"
   ]
  }
 ],
 "metadata": {
  "kernelspec": {
   "display_name": "Python 3",
   "language": "python",
   "name": "python3"
  },
  "language_info": {
   "codemirror_mode": {
    "name": "ipython",
    "version": 3
   },
   "file_extension": ".py",
   "mimetype": "text/x-python",
   "name": "python",
   "nbconvert_exporter": "python",
   "pygments_lexer": "ipython3",
   "version": "3.6.8"
  }
 },
 "nbformat": 4,
 "nbformat_minor": 2
}
